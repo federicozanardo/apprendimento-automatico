{
  "nbformat": 4,
  "nbformat_minor": 0,
  "metadata": {
    "colab": {
      "name": "ID3.ipynb",
      "provenance": [],
      "collapsed_sections": []
    },
    "kernelspec": {
      "name": "python3",
      "display_name": "Python 3"
    }
  },
  "cells": [
    {
      "cell_type": "markdown",
      "metadata": {
        "id": "oW98UlP8HVi7"
      },
      "source": [
        "# Alberi di decisione con ID3\n",
        "\n",
        "In questo notebook ho deciso di implementare l'algoritmo **ID3** seguendo quanto scritto nelle slide della lezione del 12 ottobre 2020."
      ]
    },
    {
      "cell_type": "markdown",
      "metadata": {
        "id": "Gt94g7RQIDNv"
      },
      "source": [
        "# ID3\n",
        "\n",
        "ID3 è un algoritmo che permette di generare un **albero di decisione**. Nell'ambito del machine learning un albero di decisione è un modello predittivo in cui:\n",
        "\n",
        "1. ogni *nodo interno* dell'albero rappresenta un **attributo**;\n",
        "2. ogni *arco* corrisponde ad un possibile **valore** che può essere assunto dal nodo genitore, quindi, dall'attributo;\n",
        "3. ogni nodo *foglia* assegna una **classificazione**.\n",
        "\n",
        "Gli alberi di decisione vengono utilizzati in diversi ambiti, in particolare, vengono applicati quando è necessario capire in che modo l'algoritmo è giunto ad una determinata conclusione. Infatti, gli alberi di decisione possono essere tradotti in una serie di *condizioni* `if`. In questo modo, l'uomo è in grado di comprendere il percorso (nell'albero) che ha fatto l'algoritmo."
      ]
    },
    {
      "cell_type": "markdown",
      "metadata": {
        "id": "gWa_l_-2saLF"
      },
      "source": [
        "# Implementazione\n",
        "\n",
        "Per poter stampare l'albero di decisione prodotto da ID3 ho utilizzato il pacchetto `anytree`. Non ho trovato dei pacchetti diversi che soddisfacessero le mie esigenze."
      ]
    },
    {
      "cell_type": "code",
      "metadata": {
        "id": "TqiMm0UaBo78",
        "outputId": "d5fb3611-60da-4630-ee93-ddb825cf7b2a",
        "colab": {
          "base_uri": "https://localhost:8080/",
          "height": 119
        }
      },
      "source": [
        "!pip install anytree"
      ],
      "execution_count": 2,
      "outputs": [
        {
          "output_type": "stream",
          "text": [
            "Collecting anytree\n",
            "\u001b[?25l  Downloading https://files.pythonhosted.org/packages/a8/65/be23d8c3ecd68d40541d49812cd94ed0f3ee37eb88669ca15df0e43daed1/anytree-2.8.0-py2.py3-none-any.whl (41kB)\n",
            "\r\u001b[K     |███████▉                        | 10kB 21.1MB/s eta 0:00:01\r\u001b[K     |███████████████▊                | 20kB 6.2MB/s eta 0:00:01\r\u001b[K     |███████████████████████▋        | 30kB 7.2MB/s eta 0:00:01\r\u001b[K     |███████████████████████████████▍| 40kB 8.0MB/s eta 0:00:01\r\u001b[K     |████████████████████████████████| 51kB 3.8MB/s \n",
            "\u001b[?25hRequirement already satisfied: six>=1.9.0 in /usr/local/lib/python3.6/dist-packages (from anytree) (1.15.0)\n",
            "Installing collected packages: anytree\n",
            "Successfully installed anytree-2.8.0\n"
          ],
          "name": "stdout"
        }
      ]
    },
    {
      "cell_type": "markdown",
      "metadata": {
        "id": "czSBxYD9tKBT"
      },
      "source": [
        "## Step 1\n",
        "\n",
        "Creazione del nodo radice per l'albero di decisione finale."
      ]
    },
    {
      "cell_type": "code",
      "metadata": {
        "id": "mjk9eTPN1ybc"
      },
      "source": [
        "import numpy as np\n",
        "from math import log\n",
        "from anytree import Node\n",
        "\n",
        "class ID3:\n",
        "\n",
        "    # Step 1: create the root node\n",
        "    T = Node(\"Root\")\n",
        "\n",
        "    def __init__(self, S, A):\n",
        "      self.algorithm(S, A, self.T)"
      ],
      "execution_count": null,
      "outputs": []
    },
    {
      "cell_type": "markdown",
      "metadata": {
        "id": "mc6kGfbVtYfc"
      },
      "source": [
        "## Step 2\n",
        "\n",
        "Se gli esempi nell'insieme $S$ sono tutti della stessa classe $c$, ritorna l'albero $T$ etichettato con la classe $c$."
      ]
    },
    {
      "cell_type": "code",
      "metadata": {
        "id": "wSGDj4mYAX0b"
      },
      "source": [
        "# Check if all the elements of a set are of the same class c\n",
        "def areAllElementOfSetEqual(self, S):\n",
        "    c = S[0][\"Sport\"]\n",
        "    for i in range(1, self.cardinality(S)):\n",
        "        if S[i][\"Sport\"] != c:\n",
        "            return \"\"\n",
        "    return c"
      ],
      "execution_count": null,
      "outputs": []
    },
    {
      "cell_type": "markdown",
      "metadata": {
        "id": "zuHW-4C_vl-Z"
      },
      "source": [
        "## Step 3\n",
        "\n",
        "Se l'insieme degli attributi $A$ è vuoto, ritorna l'albero $T$ etichettato con la classe di maggiornaza in $S$."
      ]
    },
    {
      "cell_type": "code",
      "metadata": {
        "id": "L2JXzmjAAbfN"
      },
      "source": [
        "# Determine the majority class in S\n",
        "def majorityClassOfSet(self, S, A):\n",
        "    classes = {}\n",
        "\n",
        "    for s in S:\n",
        "        if s[\"Sport\"] not in classes:\n",
        "            classes[s[\"Sport\"]] = 1\n",
        "        else:\n",
        "            classes[s[\"Sport\"]] += 1\n",
        "\n",
        "    return A[int(np.argmax(classes))]"
      ],
      "execution_count": null,
      "outputs": []
    },
    {
      "cell_type": "markdown",
      "metadata": {
        "id": "F9ZUrwE9v_Ov"
      },
      "source": [
        "## Step 4\n",
        "\n",
        "Si scelga $a \\in A$ tale che $a$ sia l'attributo **ottimo** in $A$."
      ]
    },
    {
      "cell_type": "code",
      "metadata": {
        "id": "S6KtCbBcAfhQ"
      },
      "source": [
        "# Determine the optimal attribute in A\n",
        "def optimalAttribute(self, S, A):\n",
        "\n",
        "    # If the |A| = 1, consider the only one attribute in A as optimal\n",
        "    if self.cardinality(A) == 1:\n",
        "        return A[0]\n",
        "\n",
        "    information_gains = []\n",
        "\n",
        "    for a in A:\n",
        "        information_gains.append(self.informationGain(S, a))\n",
        "\n",
        "    # Determine which attribute has the highest Information Gain\n",
        "    index = np.argmax(information_gains)\n",
        "\n",
        "    return A[int(index)]"
      ],
      "execution_count": null,
      "outputs": []
    },
    {
      "cell_type": "markdown",
      "metadata": {
        "id": "IGRJtzpzwNV6"
      },
      "source": [
        "### Information Gain\n",
        "\n",
        "Per selezionare l'attributo ottimo $a \\in A$, si scelga l'attributo che massimizza l'Information Gain $G(S, a)$. L'Information Gain rappresenta la riduzione *attesa* di entropia che si ottiene partizionando gli esempi in $S$ usando l'attributo $a$.\n",
        "\n",
        "La formula per calcolare l'**Information Gain** è: $G(S, a) = E(S) - \\sum_{v \\in V(a)} \\frac{\\left|S_{a=v}\\right|}{\\left|S\\right|} \\cdot E(S_{a=v})$, dove $a \\in A$, $E$ è l'**entropia** e $S_{a=v}$ è l'insieme degli esempi in $S$ con attributo $a$ e valore dell'attributo uguale a $v$."
      ]
    },
    {
      "cell_type": "code",
      "metadata": {
        "id": "KgaZXnMPAlL6"
      },
      "source": [
        "# Calculate the Information Gain\n",
        "def informationGain(self, S, x):\n",
        "    values = {}\n",
        "    summation = 0\n",
        "\n",
        "    for s in S:\n",
        "        if s[x] not in values:\n",
        "            values[s[x]] = 1\n",
        "        else:\n",
        "            values[s[x]] += 1\n",
        "\n",
        "    for v in values:\n",
        "        # Get the examples from S by the value v of the attribute x\n",
        "        s_x = self.examplesByAttribute(S, x, v)\n",
        "\n",
        "        summation += (values[v] / self.cardinality(S)) * self.entropy(s_x, method=\"cross-entropy\")\n",
        "\n",
        "    return self.entropy(S, method=\"cross-entropy\") - summation"
      ],
      "execution_count": null,
      "outputs": []
    },
    {
      "cell_type": "markdown",
      "metadata": {
        "id": "p_f7STJ0yPqn"
      },
      "source": [
        "### Entropia\n",
        "\n",
        "L'entropia è una misura del grado di impurità di un insieme di esempi $S$. Siano $C$ il numero di classi, $S_c$ il sottoinsieme di $S$ di esempi di classi $c$ e $p_c = \\frac{\\left|S_c\\right|}{\\left|S\\right|}$.\n",
        "\n",
        "I criteri per il calcolo dell'entropia implementati sono:\n",
        "\n",
        "1. Cross-Entropy: $- \\sum_{c=1}^m p_c \\cdot \\log_2(p_c)$\n",
        "2. Gini Index: $1 - \\sum_{c=1}^m p_c^2$"
      ]
    },
    {
      "cell_type": "code",
      "metadata": {
        "id": "Kiacv9ASAnQF"
      },
      "source": [
        "# Calculate the entropy\n",
        "def entropy(self, S, method):\n",
        "    if method == \"cross-entropy\":\n",
        "        return self.crossEntropy(S)\n",
        "    if method == \"gini-index\":\n",
        "        return self.giniIndex(S)\n",
        "\n",
        "# Calculate the Cross-Entropy\n",
        "def crossEntropy(self, S):\n",
        "    classes = {}\n",
        "\n",
        "    for s in S:\n",
        "        if s[\"Sport\"] not in classes:\n",
        "            classes[s[\"Sport\"]] = 1\n",
        "        else:\n",
        "            classes[s[\"Sport\"]] += 1\n",
        "\n",
        "    E = 0\n",
        "    for c in classes:\n",
        "        p_c = classes[c] / self.cardinality(S)\n",
        "        E += p_c * log(p_c, 2)\n",
        "\n",
        "    return -E\n",
        "\n",
        "# Calculate the Gini Index\n",
        "def giniIndex(self, S):\n",
        "    classes = {}\n",
        "\n",
        "    for s in S:\n",
        "        if s[\"Sport\"] not in classes:\n",
        "            classes[s[\"Sport\"]] = 1\n",
        "        else:\n",
        "            classes[s[\"Sport\"]] += 1\n",
        "    \n",
        "    GI = 0\n",
        "    for c in classes:\n",
        "      p_c = classes[c] / self.cardinality(S)\n",
        "      GI += p_c * p_c\n",
        "\n",
        "    return 1 - GI"
      ],
      "execution_count": null,
      "outputs": []
    },
    {
      "cell_type": "markdown",
      "metadata": {
        "id": "zZ-WVOX_z4b8"
      },
      "source": [
        "## Step 5 e 6\n",
        "\n",
        "### Step 5\n",
        "\n",
        "Si partizioni l'insieme $S$ secondo i possibili valori che l'attributo ottimo $a$ può assumere, ovvero, $S_{a=v_1},\\dots,S_{a=v_m}$, dove $m$ è il numero dei possibili valori assunto da $a$.\n",
        "\n",
        "### Step 6\n",
        "\n",
        "Siano:\n",
        "1. $S_j^{'} = S_{a=v_j}$\n",
        "2. $A^{'} = A - a$\n",
        "\n",
        "con $a \\in A$ tale che $a$ sia l'attributo ottimo in $A$.\n",
        "\n",
        "Si effettui una chiamata ricorsiva ID3($S_j^{'}$, $A^{'}$) per ogni $j$.\n",
        "\n"
      ]
    },
    {
      "cell_type": "code",
      "metadata": {
        "id": "UB0QKgKTBMr0"
      },
      "source": [
        "# Partition the set S by the value v that an attribute x can assume in S\n",
        "def partition(self, S, x, v):\n",
        "    partitions = []\n",
        "\n",
        "    for i in range(self.cardinality(S)):\n",
        "        if S[i][x] == v:\n",
        "            partitions.append(S[i])\n",
        "\n",
        "    return partitions"
      ],
      "execution_count": null,
      "outputs": []
    },
    {
      "cell_type": "code",
      "metadata": {
        "id": "AbDS6g3hC1vT"
      },
      "source": [
        "# Get all the values that the optimal attribute a can assume in S\n",
        "values = self.valuesByAttribute(S, a)\n",
        "\n",
        "# Update the tree T\n",
        "T_prime = Node(a, parent=T, value=values)\n",
        "\n",
        "# Remove the current optimal attribute a from A\n",
        "A.remove(a)\n",
        "\n",
        "# Make a recursive call for each value that the optimal attribute a can assume in S\n",
        "for i in range(len(values)):\n",
        "\n",
        "    # Step 5: partition the set S according to the possible values that the optimal attribute a can assume\n",
        "    S_prime = self.partition(S, a, values[i])\n",
        "\n",
        "    # Step 6: recursive call of ID3\n",
        "    self.algorithm(S_prime, A, T_prime)"
      ],
      "execution_count": null,
      "outputs": []
    },
    {
      "cell_type": "markdown",
      "metadata": {
        "id": "j88xftT70zxK"
      },
      "source": [
        "# Esecuzione dell'algoritmo\n",
        "\n",
        "Gli insiemi $S$ e $A$ contengono rispettivamente gli elementi che sono presenti nelle slide della lezione.\n",
        "\n",
        "É possibile cambare il criterio per il calcolo dell'entropia modficando il parametro `method` del metodo `entropy`. Il metodo `entropy` viene richiamato per il calcolo dell'Information Gain."
      ]
    },
    {
      "cell_type": "code",
      "metadata": {
        "id": "QHLDcB9GCEMA",
        "outputId": "28775719-ef5d-4493-ca96-6525c0679c0a",
        "colab": {
          "base_uri": "https://localhost:8080/",
          "height": 170
        }
      },
      "source": [
        "import numpy as np\n",
        "from math import log\n",
        "from anytree import Node, RenderTree\n",
        "\n",
        "class ID3:\n",
        "\n",
        "    # Step 1: create the root node\n",
        "    T = Node(\"Root\")\n",
        "\n",
        "    def __init__(self, S, A):\n",
        "        self.algorithm(S, A, self.T)\n",
        "\n",
        "    def algorithm(self, S, A, T):\n",
        "        # Step 2: if all the examples in S are of the same class c, returns the tree T labeled with class c\n",
        "        c = self.areAllElementOfSetEqual(S)\n",
        "        if c != \"\":\n",
        "            return Node(c, parent=T)\n",
        "\n",
        "        # Step 3: if A is empty, returns the tree T labeled with the majority class c in S\n",
        "        if not A:\n",
        "            c = self.majorityClassOfSet(S, A)\n",
        "            return Node(c, parent=T)\n",
        "\n",
        "        # Step 4: let a belongs to A such that a is optimal in A\n",
        "        a = self.optimalAttribute(S, A)\n",
        "\n",
        "        # Get all the values that the optimal attribute a can assume in S\n",
        "        values = self.valuesByAttribute(S, a)\n",
        "\n",
        "        # Update the tree T\n",
        "        T_prime = Node(a, parent=T, value=values)\n",
        "\n",
        "        # Remove the current optimal attribute a from A\n",
        "        A.remove(a)\n",
        "\n",
        "        # Make a recursive call for each value that the optimal attribute a can assume in S\n",
        "        for i in range(len(values)):\n",
        "\n",
        "            # Step 5: partition the set S according to the possible values that the optimal attribute a can assume\n",
        "            S_prime = self.partition(S, a, values[i])\n",
        "\n",
        "            # Step 6: recursive call of ID3\n",
        "            self.algorithm(S_prime, A, T_prime)\n",
        "\n",
        "    # Check if all the elements of a set are of the same class c\n",
        "    def areAllElementOfSetEqual(self, S):\n",
        "        c = S[0][\"Sport\"]\n",
        "        for i in range(1, self.cardinality(S)):\n",
        "            if S[i][\"Sport\"] != c:\n",
        "                return \"\"\n",
        "        return c\n",
        "\n",
        "    # Determine the majority class in S\n",
        "    def majorityClassOfSet(self, S, A):\n",
        "        classes = {}\n",
        "\n",
        "        for s in S:\n",
        "            if s[\"Sport\"] not in classes:\n",
        "                classes[s[\"Sport\"]] = 1\n",
        "            else:\n",
        "                classes[s[\"Sport\"]] += 1\n",
        "\n",
        "        return A[int(np.argmax(classes))]\n",
        "\n",
        "    # Determine the optimal attribute in A\n",
        "    def optimalAttribute(self, S, A):\n",
        "\n",
        "        # If the |A| = 1, consider the only one attribute in A as optimal\n",
        "        if self.cardinality(A) == 1:\n",
        "            return A[0]\n",
        "\n",
        "        information_gains = []\n",
        "\n",
        "        for a in A:\n",
        "            information_gains.append(self.informationGain(S, a))\n",
        "\n",
        "        # Determine which attribute has the highest Information Gain\n",
        "        index = np.argmax(information_gains)\n",
        "\n",
        "        return A[int(index)]\n",
        "\n",
        "    # Get the cardinality of a set\n",
        "    def cardinality(self, S):\n",
        "        return len(S)\n",
        "\n",
        "    # Calculate the Information Gain\n",
        "    def informationGain(self, S, x):\n",
        "        values = {}\n",
        "        summation = 0\n",
        "\n",
        "        for s in S:\n",
        "            if s[x] not in values:\n",
        "                values[s[x]] = 1\n",
        "            else:\n",
        "                values[s[x]] += 1\n",
        "\n",
        "        for v in values:\n",
        "            # Get the examples from S by the value v of the attribute x\n",
        "            s_x = self.examplesByAttribute(S, x, v)\n",
        "\n",
        "            summation += (values[v] / self.cardinality(S)) * self.entropy(s_x, method=\"cross-entropy\")\n",
        "\n",
        "        return self.entropy(S, method=\"cross-entropy\") - summation\n",
        "\n",
        "    # Get the examples from the set S with attribute x and value v\n",
        "    def examplesByAttribute(self, S, x, v):\n",
        "        s_x = []\n",
        "        for s in S:\n",
        "            if s[x] == v:\n",
        "                s_x.append(s)\n",
        "        return s_x\n",
        "\n",
        "    # Calculate the entropy\n",
        "    def entropy(self, S, method):\n",
        "        if method == \"cross-entropy\":\n",
        "            return self.crossEntropy(S)\n",
        "        if method == \"gini-impurity\":\n",
        "            return self.giniImpurity(S)\n",
        "\n",
        "    # Calculate the Cross-Entropy\n",
        "    def crossEntropy(self, S):\n",
        "        classes = {}\n",
        "\n",
        "        for s in S:\n",
        "            if s[\"Sport\"] not in classes:\n",
        "                classes[s[\"Sport\"]] = 1\n",
        "            else:\n",
        "                classes[s[\"Sport\"]] += 1\n",
        "\n",
        "        E = 0\n",
        "        for c in classes:\n",
        "            p_c = classes[c] / self.cardinality(S)\n",
        "            E += p_c * log(p_c, 2)\n",
        "\n",
        "        return -E\n",
        "\n",
        "    # Calculate the Gini Impurity\n",
        "    def giniImpurity(self, S):\n",
        "        classes = {}\n",
        "\n",
        "        for s in S:\n",
        "            if s[\"Sport\"] not in classes:\n",
        "                classes[s[\"Sport\"]] = 1\n",
        "            else:\n",
        "                classes[s[\"Sport\"]] += 1\n",
        "        \n",
        "        GI = 0\n",
        "        for c in classes:\n",
        "          p_c = classes[c] / self.cardinality(S)\n",
        "          GI += p_c * p_c\n",
        "\n",
        "        return 1 - GI\n",
        "\n",
        "    # Get the values that an attribute x can assume in S\n",
        "    def valuesByAttribute(self, S, x):\n",
        "        values = []\n",
        "\n",
        "        for i in range(self.cardinality(S)):\n",
        "            if S[i][x] not in values:\n",
        "                values.append(S[i][x])\n",
        "\n",
        "        return values\n",
        "\n",
        "    # Partition the set S by the value v that an attribute x can assume in S\n",
        "    def partition(self, S, x, v):\n",
        "        partitions = []\n",
        "\n",
        "        for i in range(self.cardinality(S)):\n",
        "            if S[i][x] == v:\n",
        "                partitions.append(S[i])\n",
        "\n",
        "        return partitions\n",
        "\n",
        "S = [\n",
        "    {\"Outlook\": \"Sunny\", \"Temperature\": \"Hot\", \"Humidity\": \"High\", \"Wind\": \"Weak\", \"Sport\": \"No\"},\n",
        "    {\"Outlook\": \"Sunny\", \"Temperature\": \"Hot\", \"Humidity\": \"High\", \"Wind\": \"Strong\", \"Sport\": \"No\"},\n",
        "    {\"Outlook\": \"Overcast\", \"Temperature\": \"Hot\", \"Humidity\": \"High\", \"Wind\": \"Weak\", \"Sport\": \"Yes\"},\n",
        "    {\"Outlook\": \"Rain\", \"Temperature\": \"Mild\", \"Humidity\": \"High\", \"Wind\": \"Weak\", \"Sport\": \"Yes\"},\n",
        "    {\"Outlook\": \"Rain\", \"Temperature\": \"Cool\", \"Humidity\": \"Normal\", \"Wind\": \"Weak\", \"Sport\": \"Yes\"},\n",
        "    {\"Outlook\": \"Rain\", \"Temperature\": \"Cool\", \"Humidity\": \"Normal\", \"Wind\": \"Strong\", \"Sport\": \"No\"},\n",
        "    {\"Outlook\": \"Overcast\", \"Temperature\": \"Cool\", \"Humidity\": \"Normal\", \"Wind\": \"Strong\", \"Sport\": \"Yes\"},\n",
        "    {\"Outlook\": \"Sunny\", \"Temperature\": \"Mild\", \"Humidity\": \"High\", \"Wind\": \"Weak\", \"Sport\": \"No\"},\n",
        "    {\"Outlook\": \"Sunny\", \"Temperature\": \"Cool\", \"Humidity\": \"Normal\", \"Wind\": \"Weak\", \"Sport\": \"Yes\"},\n",
        "    {\"Outlook\": \"Rain\", \"Temperature\": \"Mild\", \"Humidity\": \"Normal\", \"Wind\": \"Weak\", \"Sport\": \"Yes\"},\n",
        "    {\"Outlook\": \"Sunny\", \"Temperature\": \"Mild\", \"Humidity\": \"Normal\", \"Wind\": \"Strong\", \"Sport\": \"Yes\"},\n",
        "    {\"Outlook\": \"Overcast\", \"Temperature\": \"Mild\", \"Humidity\": \"High\", \"Wind\": \"Strong\", \"Sport\": \"Yes\"},\n",
        "    {\"Outlook\": \"Overcast\", \"Temperature\": \"Hot\", \"Humidity\": \"Normal\", \"Wind\": \"Weak\", \"Sport\": \"Yes\"},\n",
        "    {\"Outlook\": \"Rain\", \"Temperature\": \"Mild\", \"Humidity\": \"High\", \"Wind\": \"Strong\", \"Sport\": \"No\"}\n",
        "]\n",
        "\n",
        "A = ['Outlook', 'Temperature', 'Humidity', 'Wind']\n",
        "\n",
        "decision_tree = ID3(S, A)\n",
        "\n",
        "# Show the tree produced by ID3\n",
        "for prefix, filling, node in RenderTree(decision_tree.T):\n",
        "    print(\"{}{}\".format(prefix, node.name))"
      ],
      "execution_count": 9,
      "outputs": [
        {
          "output_type": "stream",
          "text": [
            "Root\n",
            "└── Outlook\n",
            "    ├── Humidity\n",
            "    │   ├── No\n",
            "    │   └── Yes\n",
            "    ├── Yes\n",
            "    └── Wind\n",
            "        ├── Yes\n",
            "        └── No\n"
          ],
          "name": "stdout"
        }
      ]
    }
  ]
}